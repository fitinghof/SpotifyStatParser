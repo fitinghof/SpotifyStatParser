{
 "cells": [
  {
   "cell_type": "markdown",
   "metadata": {},
   "source": [
    "# Simon Spotify Data"
   ]
  },
  {
   "cell_type": "markdown",
   "metadata": {},
   "source": [
    "## Exploration"
   ]
  },
  {
   "cell_type": "code",
   "execution_count": 125,
   "metadata": {},
   "outputs": [],
   "source": [
    "import pandas as pd\n",
    "import matplotlib.pyplot as plt\n",
    "import japanize_matplotlib\n",
    "from datetime import date\n",
    "from matplotlib.backends.backend_pdf import PdfPages"
   ]
  },
  {
   "cell_type": "markdown",
   "metadata": {},
   "source": [
    "## Settings"
   ]
  },
  {
   "cell_type": "code",
   "execution_count": 126,
   "metadata": {},
   "outputs": [],
   "source": [
    "start_date = date(2020, 1, 1)\n",
    "end_date = date(2030,1, 1)\n",
    "\n",
    "nrof_top_artists = 10\n",
    "nrof_top_songs = 10\n",
    "\n",
    "listening_time_per_day_rolling_window = 7\n",
    "top_songs_rolling_window = 7\n",
    "top_artists_rolling_window = 7"
   ]
  },
  {
   "cell_type": "markdown",
   "metadata": {},
   "source": [
    "## Setup"
   ]
  },
  {
   "cell_type": "code",
   "execution_count": 127,
   "metadata": {},
   "outputs": [],
   "source": [
    "pdf_pages = PdfPages('Wrapped.pdf')\n",
    "df = pd.read_json(\"StreamingHistory_music_0.json\")\n",
    "df = pd.concat([df, pd.read_json(\"StreamingHistory_music_1.json\")])\n",
    "df = pd.concat([df, pd.read_json(\"StreamingHistory_music_2.json\")])\n",
    "df = pd.concat([df, pd.read_json(\"StreamingHistory_music_3.json\")])"
   ]
  },
  {
   "cell_type": "code",
   "execution_count": 128,
   "metadata": {},
   "outputs": [],
   "source": [
    "#df"
   ]
  },
  {
   "cell_type": "code",
   "execution_count": null,
   "metadata": {},
   "outputs": [],
   "source": [
    "df.dtypes"
   ]
  },
  {
   "cell_type": "code",
   "execution_count": 130,
   "metadata": {},
   "outputs": [],
   "source": [
    "df[\"endTime\"] = pd.to_datetime(df[\"endTime\"])\n",
    "df[\"msPlayed\"] = pd.to_numeric(df[\"msPlayed\"])"
   ]
  },
  {
   "cell_type": "code",
   "execution_count": null,
   "metadata": {},
   "outputs": [],
   "source": [
    "df.dtypes"
   ]
  },
  {
   "cell_type": "code",
   "execution_count": 132,
   "metadata": {},
   "outputs": [],
   "source": [
    "start_date = max(start_date, df[\"endTime\"].min().date())\n",
    "end_date = min(end_date, df[\"endTime\"].max().date())\n",
    "\n",
    "timeFrameDf = df.query(f\"endTime >= '{start_date}' & endTime < '{end_date}'\")\n",
    "#timeFrameDf\n"
   ]
  },
  {
   "cell_type": "code",
   "execution_count": 133,
   "metadata": {},
   "outputs": [],
   "source": [
    "df = timeFrameDf"
   ]
  },
  {
   "cell_type": "markdown",
   "metadata": {},
   "source": [
    "## Front Page"
   ]
  },
  {
   "cell_type": "code",
   "execution_count": null,
   "metadata": {},
   "outputs": [],
   "source": [
    "plt.figure(figsize=(16, 9))  # Standard letter size\n",
    "plt.text(0.5, 0.95, 'Spotify Wrapped', fontsize=30, ha='center', va='top')\n",
    "period = end_date - start_date\n",
    "info_string = f\"\"\"Stats for period {start_date} to {end_date}\\n\n",
    "Total listening time: {(df[\"msPlayed\"].sum() / 3600000).round(2)}h\\n\n",
    "Average listening time per day: {(df['msPlayed'].sum() / period.days / 3600000).round(2)}h\\n\"\"\"\n",
    "\n",
    "plt.text(0.5, 0.85, info_string, fontsize=20, ha='center', va='top')\n",
    "plt.axis('off')  # Hide axes\n",
    "\n",
    "# Save the text page to the PDF\n",
    "pdf_pages.savefig()\n",
    "plt.show()\n",
    "plt.close()"
   ]
  },
  {
   "cell_type": "markdown",
   "metadata": {},
   "source": [
    "## Top Songs"
   ]
  },
  {
   "cell_type": "code",
   "execution_count": null,
   "metadata": {},
   "outputs": [],
   "source": [
    "top_songs = df.groupby([\"artistName\", \"trackName\"])[\"msPlayed\"].count().sort_values(ascending=False).rename(\"playCount\").head(nrof_top_songs)\n",
    "pd.DataFrame(top_songs)"
   ]
  },
  {
   "cell_type": "code",
   "execution_count": null,
   "metadata": {},
   "outputs": [],
   "source": [
    "\n",
    "plt.figure(figsize=(16,9))\n",
    "\n",
    "top_songs_df = pd.DataFrame(top_songs)\n",
    "top_songs_df = top_songs_df.sort_values(by='playCount', ascending=True)\n",
    "print(top_songs_df.columns)\n",
    "plt.barh([str(i[1]) + \" - \" + str(i[0]) for i in top_songs_df.index], top_songs_df['playCount'] , color='skyblue')\n",
    "for index, value in enumerate(top_songs_df['playCount']):\n",
    "    plt.text(value / 2, index, f'{value}', ha='center', va='center', fontsize=15)\n",
    "\n",
    "\n",
    "plt.title(f\"Top {nrof_top_songs} songs\", fontsize=20)\n",
    "plt.ylabel(\"Song Title\", fontsize=15)\n",
    "plt.xlabel(\"Play Count\", fontsize=15)\n",
    "\n",
    "plt.yticks(fontsize=15)\n",
    "plt.xticks(fontsize=15)\n",
    "\n",
    "plt.tight_layout()\n",
    "pdf_pages.savefig()\n",
    "plt.show()"
   ]
  },
  {
   "cell_type": "code",
   "execution_count": 137,
   "metadata": {},
   "outputs": [],
   "source": [
    "top_songs_full = df[df.set_index([\"artistName\", \"trackName\"]).index.isin(top_songs.index)]\n",
    "#top10_full"
   ]
  },
  {
   "cell_type": "code",
   "execution_count": 138,
   "metadata": {},
   "outputs": [],
   "source": [
    "top_songs_daily = top_songs_full.groupby([\"artistName\", \"trackName\"]).resample(\"d\", on=\"endTime\").count()\n",
    "top_songs_daily[\"playCount\"] = top_songs_daily[\"artistName\"]\n",
    "top_songs_daily = top_songs_daily.drop([\"artistName\", \"trackName\", \"msPlayed\"], axis=1)\n",
    "#top10_daily"
   ]
  },
  {
   "cell_type": "code",
   "execution_count": null,
   "metadata": {},
   "outputs": [],
   "source": [
    "plt.figure(figsize=(16,9))\n",
    "\n",
    "for artist, track in top_songs.index:\n",
    "    song_data = top_songs_daily.query(f\"artistName == '{artist}' & trackName == '{track}'\").reset_index()\n",
    "    song_data['rolling_playCount'] = song_data['playCount'].rolling(window=top_songs_rolling_window).mean()\n",
    "    plt.plot(song_data[\"endTime\"], song_data[\"rolling_playCount\"], label=f\"{track}\")\n",
    "\n",
    "plt.legend(fontsize=15)\n",
    "plt.title(f\"Top {nrof_top_songs} Songs listening time rolling {top_songs_rolling_window} day average\", fontsize=20)\n",
    "plt.xlabel(\"Date\", fontsize=15)\n",
    "plt.ylabel(\"Play Count\", fontsize=15)\n",
    "plt.grid()\n",
    "\n",
    "plt.yticks(fontsize=15)\n",
    "plt.xticks(fontsize=15)\n",
    "\n",
    "plt.tight_layout()\n",
    "pdf_pages.savefig()\n",
    "plt.show()"
   ]
  },
  {
   "cell_type": "markdown",
   "metadata": {},
   "source": [
    "## Top artists"
   ]
  },
  {
   "cell_type": "code",
   "execution_count": null,
   "metadata": {},
   "outputs": [],
   "source": [
    "top_artists = df.groupby([\"artistName\"])[\"msPlayed\"].count().sort_values(ascending=False).rename(\"playCount\").head(nrof_top_artists)\n",
    "pd.DataFrame(top_artists)"
   ]
  },
  {
   "cell_type": "code",
   "execution_count": null,
   "metadata": {},
   "outputs": [],
   "source": [
    "plt.figure(figsize=(16,9))\n",
    "\n",
    "top_artist_df = pd.DataFrame(top_artists)\n",
    "\n",
    "top_artist_df = top_artist_df.sort_values(by='playCount', ascending=True)\n",
    "\n",
    "plt.barh(top_artist_df.index, top_artist_df['playCount'], color='skyblue')\n",
    "for index, value in enumerate(top_artist_df['playCount']):\n",
    "    plt.text(value / 2, index, f'{value}', ha='center', va='center', fontsize=15)\n",
    "\n",
    "plt.title(f\"Top {nrof_top_artists} artists\", fontsize=20)\n",
    "plt.ylabel(\"Artist name\", fontsize=15)\n",
    "plt.xlabel(\"Play Count\", fontsize=15)\n",
    "\n",
    "plt.yticks(fontsize=15)\n",
    "plt.xticks(fontsize=15)\n",
    "\n",
    "plt.tight_layout()\n",
    "pdf_pages.savefig()\n",
    "plt.show()"
   ]
  },
  {
   "cell_type": "code",
   "execution_count": 142,
   "metadata": {},
   "outputs": [],
   "source": [
    "top_artists_full = df[df.set_index([\"artistName\"]).index.isin(top_artists.index)]\n",
    "#top5_artists_full"
   ]
  },
  {
   "cell_type": "code",
   "execution_count": 143,
   "metadata": {},
   "outputs": [],
   "source": [
    "top_artists_daily = top_artists_full.groupby([\"artistName\"]).resample(\"D\", on=\"endTime\").count()\n",
    "top_artists_daily[\"playCount\"] = top_artists_daily[\"artistName\"]\n",
    "top_artists_daily = top_artists_daily.drop([\"artistName\", \"trackName\", \"msPlayed\"], axis=1)\n",
    "#top5_artists_daily"
   ]
  },
  {
   "cell_type": "code",
   "execution_count": null,
   "metadata": {},
   "outputs": [],
   "source": [
    "plt.figure(figsize=(16,9))\n",
    "\n",
    "for artist in top_artists.index:\n",
    "    song_data = top_artists_daily.query(f\"artistName == '{artist}'\").reset_index()\n",
    "    song_data['rolling_playcount'] = song_data[\"playCount\"].rolling(window=top_artists_rolling_window).mean()\n",
    "    plt.plot(song_data[\"endTime\"], song_data[\"rolling_playcount\"], label=f\"{artist}\")\n",
    "\n",
    "\n",
    "plt.legend(fontsize=15)\n",
    "\n",
    "plt.title(f\"Top {nrof_top_artists} artists listening time rolling {top_artists_rolling_window} day average\", fontsize=20)\n",
    "plt.xlabel(\"Date\", fontsize=15)\n",
    "plt.ylabel(\"Play Count\", fontsize=15)\n",
    "plt.grid()\n",
    "\n",
    "plt.yticks(fontsize=15)\n",
    "plt.xticks(fontsize=15)\n",
    "\n",
    "plt.tight_layout()\n",
    "pdf_pages.savefig()\n",
    "plt.show()"
   ]
  },
  {
   "cell_type": "markdown",
   "metadata": {},
   "source": [
    "## Playtime"
   ]
  },
  {
   "cell_type": "code",
   "execution_count": null,
   "metadata": {},
   "outputs": [],
   "source": [
    "playtime = df.resample(\"D\", on=\"endTime\")[\"msPlayed\"].sum()\n",
    "\n",
    "# Convert to hours\n",
    "playtime = playtime.divide(3600000)\n",
    "\n",
    "playtime = playtime.rolling(window=listening_time_per_day_rolling_window).mean()\n",
    "\n",
    "plt.figure(figsize=(16,9))\n",
    "plt.plot(playtime)\n",
    "\n",
    "plt.title(f\"Total playtime rolling {listening_time_per_day_rolling_window} day average\", fontsize=20)\n",
    "plt.xlabel(\"Date\", fontsize=15)\n",
    "plt.ylabel(\"Play Time (h)\", fontsize=15)\n",
    "\n",
    "plt.yticks(fontsize=15)\n",
    "plt.xticks(fontsize=15)\n",
    "\n",
    "plt.grid()\n",
    "\n",
    "plt.tight_layout()\n",
    "pdf_pages.savefig()\n",
    "plt.show()"
   ]
  },
  {
   "cell_type": "code",
   "execution_count": null,
   "metadata": {},
   "outputs": [],
   "source": [
    "ms_per_hour = df\n",
    "ms_per_hour['hours'] = df['endTime'].dt.hour\n",
    "ms_per_hour = ms_per_hour.groupby('hours')['msPlayed'].sum()\n",
    "ms_per_hour = ms_per_hour.reindex(range(24), fill_value=0)\n",
    "total_listening_time = ms_per_hour.sum()\n",
    "percent_occurrences_per_hour = (ms_per_hour / total_listening_time) * 100\n",
    "\n",
    "plt.figure(figsize=(16, 9))\n",
    "plt.bar(range(24), percent_occurrences_per_hour, color='skyblue')\n",
    "for index, value in enumerate(percent_occurrences_per_hour):\n",
    "   formatedValue = ''\n",
    "   if (value > 1): formatedValue = f'{round(value, 2)}%'\n",
    "   plt.text(index, value / 2, formatedValue, ha='center', va='center', fontsize=15, rotation=90)\n",
    "\n",
    "plt.title('Listening spread per hour of the day', fontsize=20)\n",
    "plt.xlabel('Hour of the Day', fontsize=15)\n",
    "plt.ylabel('Percent of listening time', fontsize=15)\n",
    "\n",
    "plt.yticks(fontsize=15)\n",
    "plt.xticks(fontsize=15)\n",
    "plt.xticks(rotation=0)\n",
    "\n",
    "plt.tight_layout()\n",
    "pdf_pages.savefig()\n",
    "plt.show()\n"
   ]
  },
  {
   "cell_type": "code",
   "execution_count": null,
   "metadata": {},
   "outputs": [],
   "source": [
    "listen_time_weekday = df\n",
    "listen_time_weekday['weekday'] = df['endTime'].dt.weekday\n",
    "listen_time_weekday = listen_time_weekday.groupby('weekday')['msPlayed'].sum()\n",
    "listen_time_weekday = listen_time_weekday.reindex(range(7), fill_value=0)\n",
    "\n",
    "total_listening_time = listen_time_weekday.sum()\n",
    "percent_occurrences_per_hour = (listen_time_weekday / total_listening_time) * 100\n",
    "\n",
    "plt.figure(figsize=(16, 9))\n",
    "plt.bar(range(7), percent_occurrences_per_hour, color='skyblue')\n",
    "for index, value in enumerate(percent_occurrences_per_hour):\n",
    "   formatedValue = ''\n",
    "   if (value > 1): formatedValue = f'{round(value, 2)}%'\n",
    "   plt.text(index, value / 2, formatedValue, ha='center', va='center', fontsize=15, rotation=90)\n",
    "\n",
    "\n",
    "plt.title('Percent of listening time per weekday', fontsize=20)\n",
    "plt.xlabel('Days', fontsize=15)\n",
    "plt.ylabel('Percent of total listening time', fontsize=15)\n",
    "\n",
    "plt.xticks(fontsize=15, ticks=[0,1,2,3,4,5,6], rotation=45, labels=[\"Monday\", \"Tuesday\", \"Wednesday\", \"Thursday\", \"Friday\", \"Saturday\", \"Sunday\"])\n",
    "plt.yticks(fontsize=15)\n",
    "\n",
    "plt.tight_layout()\n",
    "pdf_pages.savefig()\n",
    "pdf_pages.close()\n",
    "plt.show()"
   ]
  }
 ],
 "metadata": {
  "kernelspec": {
   "display_name": "Python 3",
   "language": "python",
   "name": "python3"
  },
  "language_info": {
   "codemirror_mode": {
    "name": "ipython",
    "version": 3
   },
   "file_extension": ".py",
   "mimetype": "text/x-python",
   "name": "python",
   "nbconvert_exporter": "python",
   "pygments_lexer": "ipython3",
   "version": "3.12.8"
  }
 },
 "nbformat": 4,
 "nbformat_minor": 2
}
